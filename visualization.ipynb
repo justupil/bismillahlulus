{
 "cells": [
  {
   "cell_type": "markdown",
   "metadata": {
    "colab_type": "text",
    "id": "view-in-github"
   },
   "source": [
    "<a href=\"https://colab.research.google.com/github/google/applied-machine-learning-intensive/blob/master/content/02_data/03_visualizations/colab.ipynb\" target=\"_parent\"><img src=\"https://colab.research.google.com/assets/colab-badge.svg\" alt=\"Open In Colab\"/></a>"
   ]
  },
  {
   "cell_type": "markdown",
   "metadata": {
    "colab_type": "text",
    "id": "dOtXIvDSbwtj"
   },
   "source": [
    "#### Copyright 2020 Google LLC."
   ]
  },
  {
   "cell_type": "code",
   "execution_count": 3,
   "metadata": {
    "colab": {},
    "colab_type": "code",
    "id": "JefYcuEabxtD"
   },
   "outputs": [],
   "source": [
    "# Licensed under the Apache License, Version 2.0 (the \"License\");\n",
    "# you may not use this file except in compliance with the License.\n",
    "# You may obtain a copy of the License at\n",
    "#\n",
    "# https://www.apache.org/licenses/LICENSE-2.0\n",
    "#\n",
    "# Unless required by applicable law or agreed to in writing, software\n",
    "# distributed under the License is distributed on an \"AS IS\" BASIS,\n",
    "# WITHOUT WARRANTIES OR CONDITIONS OF ANY KIND, either express or implied.\n",
    "# See the License for the specific language governing permissions and\n",
    "# limitations under the License."
   ]
  },
  {
   "cell_type": "markdown",
   "metadata": {
    "colab_type": "text",
    "id": "ubnZY6apSmnp"
   },
   "source": [
    "# Visualizations\n",
    "\n",
    "Visualizations play an important role in the field of machine learning and data science. Often we need to distill key information found in large quantities of data down into meaningful and digestible forms. Good visualizations can tell a story about your data in a way that prose cannot.\n",
    "\n",
    "In this lab we will explore some common visualization techniques. We will utilize toolkits such as [Matplotlib's Pyplot](https://matplotlib.org/api/pyplot_api.html) and [Seaborn](https://seaborn.pydata.org/) to create informative images that provide information and insights about our data."
   ]
  },
  {
   "cell_type": "markdown",
   "metadata": {
    "colab_type": "text",
    "id": "xIfeymFBFuIr"
   },
   "source": [
    "## Pie Charts\n",
    "\n",
    "A pie chart is used to show how much of each type of data in a dataset contributes to the whole. It is a circular chart where each class of data represents a portion of the whole."
   ]
  },
  {
   "cell_type": "markdown",
   "metadata": {
    "colab_type": "text",
    "id": "-gh8d52sGdro"
   },
   "source": [
    "Let's create a pie chart using a sample dataset. \n",
    "\n",
    "The `labels` variable contains a tuple of ice cream flavors that we have available.\n",
    "\n",
    "The `votes` variable contains a tuple of vote counts. They represent the number of votes each flavor got when we asked a group of people what their favorite flavor of ice cream is.\n",
    "\n",
    "We can create the chart using [Matplotlib's Pyplot](https://matplotlib.org/api/pyplot_api.html) library. We pass [`plt.pie()`](https://matplotlib.org/3.1.1/api/_as_gen/matplotlib.pyplot.pie.html) the number of votes for each flavor and then the labels that we want to use."
   ]
  },
  {
   "cell_type": "code",
   "execution_count": 4,
   "metadata": {
    "colab": {},
    "colab_type": "code",
    "id": "u92b6WLRGmZk"
   },
   "outputs": [
    {
     "data": {
      "image/png": "[encoded data removed]",
      "text/plain": [
       "<Figure size 432x288 with 1 Axes>"
      ]
     },
     "metadata": {},
     "output_type": "display_data"
    }
   ],
   "source": [
    "import matplotlib.pyplot as plt\n",
    "\n",
    "flavors = ('Chocolate', 'Vanilla', 'Pistachio', 'Mango', 'Strawberry')\n",
    "votes = (12, 11, 4, 8, 7)\n",
    "\n",
    "plt.pie(\n",
    "    votes,\n",
    "    labels=flavors,\n",
    ")\n",
    "plt.show()"
   ]
  },
  {
   "cell_type": "markdown",
   "metadata": {
    "colab_type": "text",
    "id": "lCg7esg4IAsd"
   },
   "source": [
    "Given this chart we can easily see that chocolate is the most popular flavor, with vanilla not falling far behind. Admittedly we could also tell this by looking at the raw data. However, the data in the pie chart format also allows us to easily see other information, such as the fact that chocolate and vanilla combined represent more than half of the votes.\n",
    "\n",
    "What we don't see are actual percentages.\n",
    "\n",
    "If we want to see what percentage each flavor contributes, we can use the `autopct` argument. For the argument value we provide a format string that can be used to set the precision of the number that is shown.\n",
    "\n",
    "Try changing the value to `%1.0%%` and `%1.2f%%`. What happens?"
   ]
  },
  {
   "cell_type": "code",
   "execution_count": 5,
   "metadata": {
    "colab": {},
    "colab_type": "code",
    "id": "is3pebK5H8mo"
   },
   "outputs": [
    {
     "data": {
      "image/png": "[encoded data removed]",
      "text/plain": [
       "<Figure size 432x288 with 1 Axes>"
      ]
     },
     "metadata": {},
     "output_type": "display_data"
    }
   ],
   "source": [
    "import matplotlib.pyplot as plt\n",
    "\n",
    "flavors = ('Chocolate', 'Vanilla', 'Pistachio', 'Mango', 'Strawberry')\n",
    "votes = (12, 11, 4, 8, 7)\n",
    "\n",
    "plt.pie(\n",
    "    votes,\n",
    "    labels=flavors,\n",
    "    autopct='%1.1f%%',\n",
    ")\n",
    "plt.show()"
   ]
  },
  {
   "cell_type": "markdown",
   "metadata": {
    "colab_type": "text",
    "id": "LYsSJAEVKnsl"
   },
   "source": [
    "Now we can see the percent that each ice cream flavor contributes to the whole.\n",
    "\n",
    "One thing that's still a little confusing about this chart is the choice of color. We have an idea of what color each of these ice cream flavors has in real life, but what is shown on the chart doesn't match up with those real-world colors.\n",
    "\n",
    "We can fix this!\n",
    "\n",
    "Matplotlib's pie chart allows you to change the colors shown on the chart by passing in an iterable of color values. You can use one of a small number of pre-programmed values such as 'b' for blue and 'g' for green.\n",
    "\n",
    "In our case we pass in the HTML names for the colors. These are six-character values where the first two characters represent the amount of red in the color, the next two the amount of green, and the final two the amount of blue. You can find many tables and pickers for these by searching for ['html color codes'](https://www.google.com/search?q=html+color+codes).\n",
    "\n",
    "Below we picked custom colors for each of the flavors."
   ]
  },
  {
   "cell_type": "code",
   "execution_count": 0,
   "metadata": {
    "colab": {},
    "colab_type": "code",
    "id": "LKe9NRT8Jjc2"
   },
   "outputs": [],
   "source": [
    "import matplotlib.pyplot as plt\n",
    "\n",
    "flavors = ('Chocolate', 'Vanilla', 'Pistachio', 'Mango', 'Strawberry')\n",
    "votes = (12, 11, 4, 8, 7)\n",
    "colors = ('#8B4513', '#FFF8DC', '#93C572', '#E67F0D', '#D53032')\n",
    "\n",
    "plt.pie(\n",
    "    votes,\n",
    "    labels=flavors,\n",
    "    autopct='%1.1f%%',\n",
    "    colors=colors,\n",
    ")\n",
    "plt.show()"
   ]
  },
  {
   "cell_type": "markdown",
   "metadata": {
    "colab_type": "text",
    "id": "84coIxn0NahZ"
   },
   "source": [
    "Excellent! Now the colors have a closer relationship to the data that they represent. We won't always have this tight of a relationship, but you might find yourself in situations where you need to use a fixed color palette for some other reason, such as corporate branding. `colors` is great for that."
   ]
  },
  {
   "cell_type": "markdown",
   "metadata": {
    "colab_type": "text",
    "id": "XLFXyJQgNsow"
   },
   "source": [
    "Now let's imagine we're preparing this chart for a presentation, and we want to call out one of the flavors in particular. Maybe mango is new to market, and we want to call out how much popularity it has already captured.\n",
    "\n",
    "To do this we can use the `explode` argument. This allows us to set an offset for each slice of the pie from the center. In the example below we pushed mango out by `0.1` while keeping all of the rest of the pieces tied to the center."
   ]
  },
  {
   "cell_type": "code",
   "execution_count": 0,
   "metadata": {
    "colab": {},
    "colab_type": "code",
    "id": "hgIBK-m0OErV"
   },
   "outputs": [],
   "source": [
    "import matplotlib.pyplot as plt\n",
    "\n",
    "flavors = ('Chocolate', 'Vanilla', 'Pistachio', 'Mango', 'Strawberry')\n",
    "votes = (12, 11, 4, 8, 7)\n",
    "colors = ('#8B4513', '#FFF8DC', '#93C572', '#E67F0D', '#D53032')\n",
    "explode = (0, 0, 0, 0.1, 0)\n",
    "\n",
    "plt.pie(\n",
    "    votes,\n",
    "    labels=flavors,\n",
    "    autopct='%1.1f%%',\n",
    "    colors=colors,\n",
    "    explode=explode,\n",
    ")\n",
    "plt.show()"
   ]
  },
  {
   "cell_type": "markdown",
   "metadata": {
    "colab_type": "text",
    "id": "rTKbRdvhOo7N"
   },
   "source": [
    "We now have mango pulled out a bit from the pie, so that we can highlight its impact.\n",
    "\n",
    "Notice that we could set offsets for every piece of the chart, and those offsets can be arbitrary numbers. Play around a bit with different and multiple offsets. Do negative numbers work?"
   ]
  },
  {
   "cell_type": "markdown",
   "metadata": {
    "colab_type": "text",
    "id": "io87GrL9PAZ4"
   },
   "source": [
    "Our pie chart looks pretty nice now, but it is very flat. We can give it a bit of a three-dimensional look by adding a shadow with the `shadow` argument."
   ]
  },
  {
   "cell_type": "code",
   "execution_count": 0,
   "metadata": {
    "colab": {},
    "colab_type": "code",
    "id": "d0JBvdElPKhN"
   },
   "outputs": [],
   "source": [
    "import matplotlib.pyplot as plt\n",
    "\n",
    "flavors = ('Chocolate', 'Vanilla', 'Pistachio', 'Mango', 'Strawberry')\n",
    "votes = (12, 11, 4, 8, 7)\n",
    "colors = ('#8B4513', '#FFF8DC', '#93C572', '#E67F0D', '#D53032')\n",
    "explode = (0, 0, 0, 0.1, 0)\n",
    "\n",
    "plt.pie(\n",
    "    votes,\n",
    "    labels=flavors,\n",
    "    autopct='%1.1f%%',\n",
    "    colors=colors,\n",
    "    explode=explode,\n",
    "    shadow=True\n",
    "    )\n",
    "plt.show()"
   ]
  },
  {
   "cell_type": "markdown",
   "metadata": {
    "colab_type": "text",
    "id": "-a_GpujIQNF7"
   },
   "source": [
    "To wrap it up, we can add a title using `plt.title()`. Notice that this is not an argument to `plt.pie()`, but is instead a separate method call on `plt`."
   ]
  },
  {
   "cell_type": "code",
   "execution_count": 0,
   "metadata": {
    "colab": {},
    "colab_type": "code",
    "id": "_EGmRUX9QEVO"
   },
   "outputs": [],
   "source": [
    "import matplotlib.pyplot as plt\n",
    "\n",
    "flavors = ('Chocolate', 'Vanilla', 'Pistachio', 'Mango', 'Strawberry')\n",
    "votes = (12, 11, 4, 8, 7)\n",
    "colors = ('#8B4513', '#FFF8DC', '#93C572', '#E67F0D', '#D53032')\n",
    "explode = (0, 0, 0, 0.1, 0)\n",
    "\n",
    "plt.title('Favorite Ice Cream Flavors')\n",
    "plt.pie(\n",
    "    votes,\n",
    "    labels=flavors,\n",
    "    autopct='%1.1f%%',\n",
    "    colors=colors,\n",
    "    explode=explode,\n",
    "    shadow=True\n",
    "    )\n",
    "plt.show()"
   ]
  },
  {
   "cell_type": "markdown",
   "metadata": {
    "colab_type": "text",
    "id": "MOiL80sOSyWT"
   },
   "source": [
    "We now have a nice pie chart that shows all of the favorite ice cream flavors in our poll!\n",
    "\n",
    "Remember pie charts are good for showing how distinct classes of data (in this case, ice cream flavors) contribute to the whole.\n",
    "\n",
    "They also work best when there are only a few classes represented. Imagine if we had 100 flavors of ice cream. The less popular flavors would all be impossible to view meaningfully."
   ]
  },
  {
   "cell_type": "markdown",
   "metadata": {
    "colab_type": "text",
    "id": "Y8hFO2hdwlmc"
   },
   "source": [
    "## Bar Charts\n",
    "\n",
    "Bar charts are another powerful tool for comparing categorical data. Similar to pie charts, they can be used to compare categories of data against each other.\n",
    "\n",
    "However, pie charts are also good for seeing how one category of data compares against the whole. Bar charts aren't very good for this.\n",
    "\n",
    "Also, bar charts can meaningfully display more categories of data than pie charts."
   ]
  },
  {
   "cell_type": "markdown",
   "metadata": {
    "colab_type": "text",
    "id": "06n185t-bFFr"
   },
   "source": [
    "Let's start by taking a look at a bar chart showing the populations of each country in South America.\n",
    "\n",
    "To do this we will use Matplotlib again. This time we will use the `bar()` method.\n",
    "\n",
    "`bar()` has two required arguments. The first argument contains the x-coordinates of the data. Since we want to plot country names on the x-axis, there aren't any natural x-coordinates.\n",
    "\n",
    "In cases like this we can use `NumPy`'s [`arange()`](https://docs.scipy.org/doc/numpy/reference/generated/numpy.arange.html) function to create a list of evenly spaced numbers. We ask for numbers between 0 and the length of the data, which should give us a list of whole numbers starting at 0 and ending at `len(data)-1`, which is 13 in the example case.\n",
    "\n",
    "The next argument is the numeric data to plot. In this example we plot the population data."
   ]
  },
  {
   "cell_type": "code",
   "execution_count": 0,
   "metadata": {
    "colab": {},
    "colab_type": "code",
    "id": "jmFxeW5rXOvH"
   },
   "outputs": [],
   "source": [
    "import matplotlib.pyplot as plt\n",
    "import numpy as np\n",
    "\n",
    "countries = ('Argentina', 'Bolivia', 'Brazil', 'Chile', 'Colombia', 'Ecuador',\n",
    "             'Falkland Islands', 'French Guiana', 'Guyana', 'Paraguay', 'Peru',\n",
    "             'Suriname', 'Uruguay', 'Venezuela')\n",
    "\n",
    "populations = (45076704, 11626410, 212162757, 19109629, 50819826, 17579085,\n",
    "               3481, 287750, 785409, 7107305, 32880332, 585169, 3470475,\n",
    "               28258770)\n",
    "\n",
    "x_coords = np.arange(len(countries))\n",
    "plt.bar(x_coords, populations)\n",
    "plt.show()"
   ]
  },
  {
   "cell_type": "markdown",
   "metadata": {
    "colab_type": "text",
    "id": "OuZ8YAIii_CC"
   },
   "source": [
    "You can see in the chart above that the x-labels aren't meaningful. We can fix this by passing a `tick_label` argument to `bar()`. Since we have relatively wide labels, it is also useful to rotate the labels by 90-degrees so that they are more readable. We do this using the `plt.xticks(rotation=90)` method call."
   ]
  },
  {
   "cell_type": "code",
   "execution_count": 0,
   "metadata": {
    "colab": {},
    "colab_type": "code",
    "id": "jO8OC_PAhY0S"
   },
   "outputs": [],
   "source": [
    "import matplotlib.pyplot as plt\n",
    "import numpy as np\n",
    "\n",
    "countries = ('Argentina', 'Bolivia', 'Brazil', 'Chile', 'Colombia', 'Ecuador',\n",
    "             'Falkland Islands', 'French Guiana', 'Guyana', 'Paraguay', 'Peru',\n",
    "             'Suriname', 'Uruguay', 'Venezuela')\n",
    "\n",
    "populations = (45076704, 11626410, 212162757, 19109629, 50819826, 17579085,\n",
    "               3481, 287750, 785409, 7107305, 32880332, 585169, 3470475,\n",
    "               28258770)\n",
    "\n",
    "x_coords = np.arange(len(countries))\n",
    "plt.bar(x_coords, populations, tick_label=countries)\n",
    "plt.xticks(rotation=90) #rotates text for x-axis labels\n",
    "plt.show()"
   ]
  },
  {
   "cell_type": "markdown",
   "metadata": {
    "colab_type": "text",
    "id": "lhwnOdyDkO6o"
   },
   "source": [
    "We can add labels to bar charts to help make the charts more readable. In the example below we add a y-label using the `ylabel()` method and a chart title using the `title()` method."
   ]
  },
  {
   "cell_type": "code",
   "execution_count": 0,
   "metadata": {
    "colab": {},
    "colab_type": "code",
    "id": "WUW5LMd_ja2L"
   },
   "outputs": [],
   "source": [
    "import matplotlib.pyplot as plt\n",
    "import numpy as np\n",
    "\n",
    "countries = ('Argentina', 'Bolivia', 'Brazil', 'Chile', 'Colombia', 'Ecuador',\n",
    "             'Falkland Islands', 'French Guiana', 'Guyana', 'Paraguay', 'Peru',\n",
    "             'Suriname', 'Uruguay', 'Venezuela')\n",
    "\n",
    "populations = (45076704, 11626410, 212162757, 19109629, 50819826, 17579085,\n",
    "              3481, 287750, 785409, 7107305, 32880332, 585169, 3470475,\n",
    "              28258770)\n",
    "\n",
    "x_coords = np.arange(len(countries))\n",
    "plt.bar(x_coords, populations, tick_label=countries)\n",
    "plt.xticks(rotation=90)\n",
    "plt.ylabel('Population (Millions)')\n",
    "plt.title('South American Populations')\n",
    "plt.show()"
   ]
  },
  {
   "cell_type": "markdown",
   "metadata": {
    "colab_type": "text",
    "id": "0afbX5qCkimN"
   },
   "source": [
    "The chart is looking pretty good.\n",
    "\n",
    "But what if you were asked the question: *What is the second most populous country in South America?*\n",
    "\n",
    "You would likely have to stare a bit at Argentina and Columbia.\n",
    "\n",
    "This is because the data is sorted alphabetically, which isn't the most helpful sorting for answering questions about the data. Unfortunately Matplotlib doesn't have built in sorting. Instead, you can import Pandas and use it to sort the data."
   ]
  },
  {
   "cell_type": "code",
   "execution_count": 0,
   "metadata": {
    "colab": {},
    "colab_type": "code",
    "id": "AHClQ8FqlZfr"
   },
   "outputs": [],
   "source": [
    "import matplotlib.pyplot as plt\n",
    "import numpy as np\n",
    "import pandas as pd\n",
    "\n",
    "countries = ('Argentina', 'Bolivia', 'Brazil', 'Chile', 'Colombia', 'Ecuador',\n",
    "             'Falkland Islands', 'French Guiana', 'Guyana', 'Paraguay', 'Peru',\n",
    "             'Suriname', 'Uruguay', 'Venezuela')\n",
    "\n",
    "populations = (45076704, 11626410, 212162757, 19109629, 50819826, 17579085,\n",
    "               3481, 287750, 785409, 7107305, 32880332, 585169, 3470475,\n",
    "               28258770)\n",
    "\n",
    "df = pd.DataFrame({\n",
    "    'Country': countries,\n",
    "    'Population': populations,\n",
    "})\n",
    "df.sort_values(by='Population', inplace=True)\n",
    "\n",
    "x_coords = np.arange(len(df))\n",
    "plt.bar(x_coords, df['Population'], tick_label=df['Country'])\n",
    "plt.xticks(rotation=90)\n",
    "plt.ylabel('Population (Millions)')\n",
    "plt.title('South American Populations')\n",
    "plt.show()"
   ]
  },
  {
   "cell_type": "markdown",
   "metadata": {
    "colab_type": "text",
    "id": "P8M8dgNYmCpd"
   },
   "source": [
    "Now we can easily see that Columbia is the second largest country.\n",
    "\n",
    "If we wanted to call that out, we could pass a list of bar colors to the `bar()` method."
   ]
  },
  {
   "cell_type": "code",
   "execution_count": 0,
   "metadata": {
    "colab": {},
    "colab_type": "code",
    "id": "mB3X9F8oxFIT"
   },
   "outputs": [],
   "source": [
    "import matplotlib.pyplot as plt\n",
    "import numpy as np\n",
    "import pandas as pd\n",
    "\n",
    "countries = ('Argentina', 'Bolivia', 'Brazil', 'Chile', 'Colombia', 'Ecuador',\n",
    "             'Falkland Islands', 'French Guiana', 'Guyana', 'Paraguay', 'Peru',\n",
    "             'Suriname', 'Uruguay', 'Venezuela')\n",
    "\n",
    "populations = (45076704, 11626410, 212162757, 19109629, 50819826, 17579085,\n",
    "               3481, 287750, 785409, 7107305, 32880332, 585169, 3470475,\n",
    "               28258770)\n",
    "\n",
    "df = pd.DataFrame({\n",
    "    'Country': countries,\n",
    "    'Population': populations,\n",
    "})\n",
    "df.sort_values(by='Population', inplace=True)\n",
    "\n",
    "x_coords = np.arange(len(df))\n",
    "colors = ['#0000FF' for _ in range(len(df))]\n",
    "colors[-2] = '#FF0000'\n",
    "plt.bar(x_coords, df['Population'], tick_label=df['Country'], color=colors)\n",
    "plt.xticks(rotation=90)\n",
    "plt.ylabel('Population (Millions)')\n",
    "plt.title('South American Populations')\n",
    "plt.show()"
   ]
  },
  {
   "cell_type": "markdown",
   "metadata": {
    "colab_type": "text",
    "id": "3OWaq93maOUs"
   },
   "source": [
    "We can also make the chart larger using the `figure()` method. We pass the `figsize=` argument which represents the width and height of the figure in inches. "
   ]
  },
  {
   "cell_type": "code",
   "execution_count": 0,
   "metadata": {
    "colab": {},
    "colab_type": "code",
    "id": "oPkUgeDkaTOo"
   },
   "outputs": [],
   "source": [
    "import matplotlib.pyplot as plt\n",
    "import numpy as np\n",
    "import pandas as pd\n",
    "\n",
    "countries = ('Argentina', 'Bolivia', 'Brazil', 'Chile', 'Colombia', 'Ecuador',\n",
    "             'Falkland Islands', 'French Guiana', 'Guyana', 'Paraguay', 'Peru',\n",
    "             'Suriname', 'Uruguay', 'Venezuela')\n",
    "\n",
    "populations = (45076704, 11626410, 212162757, 19109629, 50819826, 17579085,\n",
    "               3481, 287750, 785409, 7107305, 32880332, 585169, 3470475,\n",
    "               28258770)\n",
    "\n",
    "df = pd.DataFrame({\n",
    "    'Country': countries,\n",
    "    'Population': populations,\n",
    "})\n",
    "df.sort_values(by='Population', inplace=True)\n",
    "\n",
    "x_coords = np.arange(len(df))\n",
    "colors = ['#0000FF' for _ in range(len(df))]\n",
    "colors[-2] = '#FF0000'\n",
    "plt.figure(figsize=(20,10))\n",
    "plt.bar(x_coords, df['Population'], tick_label=df['Country'], color=colors)\n",
    "plt.xticks(rotation=90)\n",
    "plt.ylabel('Population (Millions)')\n",
    "plt.title('South American Populations')\n",
    "plt.show()"
   ]
  },
  {
   "cell_type": "markdown",
   "metadata": {
    "colab_type": "text",
    "id": "WKJ5nwoOy6dP"
   },
   "source": [
    "## Line Graphs\n",
    "\n",
    "Line graphs are another useful visualization. While pie charts and bar charts are useful in showing how classes of data relate to each other, line graphs are more useful for showing how data progresses over some period. For example, line graphs can be useful in charting temperature over time, stock prices over time, weight by day, or any other continuous metric."
   ]
  },
  {
   "cell_type": "markdown",
   "metadata": {
    "colab_type": "text",
    "id": "a6OlEZcRptGY"
   },
   "source": [
    "We'll create a very simple line graph below. The data we have is the temperature in celsius and the hour of the day for a single day and location.\n",
    "\n",
    "You can see that to create the line graph we use the [`plt.plot()`](https://matplotlib.org/3.1.1/api/_as_gen/matplotlib.pyplot.plot.html) method."
   ]
  },
  {
   "cell_type": "code",
   "execution_count": 0,
   "metadata": {
    "colab": {},
    "colab_type": "code",
    "id": "dmj3PrT1zBgD"
   },
   "outputs": [],
   "source": [
    "import matplotlib.pyplot as plt\n",
    "\n",
    "temperature_c = [2, 1, 0, 0, 1, 5, 8, 9, 8, 5, 3, 2, 2]\n",
    "hour = [0, 2, 4, 6, 8, 10, 12, 14, 16, 18, 20, 22, 24]\n",
    "\n",
    "plt.plot(\n",
    "  hour,\n",
    "  temperature_c\n",
    ")\n",
    "plt.show()"
   ]
  },
  {
   "cell_type": "markdown",
   "metadata": {
    "colab_type": "text",
    "id": "y6lrwbflwNXv"
   },
   "source": [
    "We can see that the temperature starts at around 2 degrees celsius at midnight, has a little drop to freezing around 05:00, gets up to around 9 degrees celsius at 15:00, and then drops back down to about 2 degrees at midnight."
   ]
  },
  {
   "cell_type": "markdown",
   "metadata": {
    "colab_type": "text",
    "id": "wzRonLl1yY4y"
   },
   "source": [
    "We can, of course, add the standard chart elements of `title()`, `ylabel()`, and `xlabel()`."
   ]
  },
  {
   "cell_type": "code",
   "execution_count": 0,
   "metadata": {
    "colab": {},
    "colab_type": "code",
    "id": "skEm2upYwtkZ"
   },
   "outputs": [],
   "source": [
    "import matplotlib.pyplot as plt\n",
    "\n",
    "temperature_c = [2, 1, 0, 0, 1, 5, 8, 9, 8, 5, 3, 2, 2]\n",
    "hour = [0, 2, 4, 6, 8, 10, 12, 14, 16, 18, 20, 22, 24]\n",
    "\n",
    "plt.plot(\n",
    "  hour,\n",
    "  temperature_c,\n",
    ")\n",
    "plt.title('Temperatures in Kirkland, WA, USA on 2 Feb 2020')\n",
    "plt.ylabel('Temperature Celsius')\n",
    "plt.xlabel('Hour')\n",
    "plt.show()"
   ]
  },
  {
   "cell_type": "markdown",
   "metadata": {
    "colab_type": "text",
    "id": "AQ49noUsyzRQ"
   },
   "source": [
    "We can also add markers at each of the data points. In the example below we add a dot marker at each data point using the `marker='o'` argument."
   ]
  },
  {
   "cell_type": "code",
   "execution_count": 0,
   "metadata": {
    "colab": {},
    "colab_type": "code",
    "id": "fkB1pDOqyjh7"
   },
   "outputs": [],
   "source": [
    "import matplotlib.pyplot as plt\n",
    "\n",
    "temperature_c = [2, 1, 0, 0, 1, 5, 8, 9, 8, 5, 3, 2, 2]\n",
    "hour = [0, 2, 4, 6, 8, 10, 12, 14, 16, 18, 20, 22, 24]\n",
    "\n",
    "plt.plot(\n",
    "  hour,\n",
    "  temperature_c,\n",
    "  marker='o',\n",
    ")\n",
    "plt.title('Temperatures in Kirkland, WA, USA on 2 Feb 2020')\n",
    "plt.ylabel('Temperature Celsius')\n",
    "plt.xlabel('Hour')\n",
    "plt.show()"
   ]
  },
  {
   "cell_type": "markdown",
   "metadata": {
    "colab_type": "text",
    "id": "GhKwp1iA0BnD"
   },
   "source": [
    "We can even have multiple lines on the same chart. Say, for instance, that we wanted to illustrate actual and predicted temperature values. We can just call `plot()` twice, once with each set of values.\n",
    "\n",
    "Notice that in the second call, we use another argument to `plot()`, `linestyle='--'`. This causes the predicted line to look like a dashed-line while the actual values stay solid.\n",
    "\n",
    "You can find all of the many line formatting options at the [Matplotlib `pyplot.plot()` documentation](https://matplotlib.org/3.1.1/api/_as_gen/matplotlib.pyplot.plot.html)."
   ]
  },
  {
   "cell_type": "code",
   "execution_count": 0,
   "metadata": {
    "colab": {},
    "colab_type": "code",
    "id": "ZsL0x-2uzC9P"
   },
   "outputs": [],
   "source": [
    "import matplotlib.pyplot as plt\n",
    "\n",
    "temperature_c_actual = [2, 1, 0, 0, 1, 5, 8, 9, 8, 5, 3, 2, 2]\n",
    "temperature_c_predicted = [2, 2, 1, 0, 1, 3, 7, 8, 8, 6, 4, 3, 3]\n",
    "hour = [0, 2, 4, 6, 8, 10, 12, 14, 16, 18, 20, 22, 24]\n",
    "\n",
    "plt.plot(hour, temperature_c_actual)\n",
    "plt.plot(hour, temperature_c_predicted, linestyle='--')\n",
    "plt.title('Temperatures in Kirkland, WA, USA on 2 Feb 2020')\n",
    "plt.ylabel('Temperature Celsius')\n",
    "plt.xlabel('Hour')\n",
    "plt.show()"
   ]
  },
  {
   "cell_type": "markdown",
   "metadata": {
    "colab_type": "text",
    "id": "-Ohdf7_CztDD"
   },
   "source": [
    "## Scatter Plots\n",
    "\n",
    "Scatter plots work great for data with two numeric components. They provide a great way to get a quick look at your data to see if you notice any patterns or outliers."
   ]
  },
  {
   "cell_type": "markdown",
   "metadata": {
    "colab_type": "text",
    "id": "D_81KsCQq2jW"
   },
   "source": [
    "In the example below, we have data related to gross domestic product (GDP) and population for countries with a population of more than one hundred million. GDP is the the total value of goods and services created/provided by a country over the course of a year.\n",
    "\n",
    "We then use [`plt.scatter()`](https://matplotlib.org/3.1.3/api/_as_gen/matplotlib.pyplot.scatter.html) to create a scatter plot of population and GDP.\n"
   ]
  },
  {
   "cell_type": "code",
   "execution_count": 0,
   "metadata": {
    "colab": {},
    "colab_type": "code",
    "id": "2cACFGwj3CYS"
   },
   "outputs": [],
   "source": [
    "import matplotlib.pyplot as plt\n",
    "\n",
    "country = ['Bangladesh', 'Brazil', 'China', 'India', 'Indonesia', 'Japan', \n",
    "           'Mexico', 'Nigeria', 'Pakistan', 'Russia', 'United States']\n",
    "gdp = [2421, 13418, 9475, 4353, 7378, 35477, 14276, 5087, 4133, 20255, 49267]\n",
    "population = [148692131, 194946470, 1341335152, 1224614327, 239870937,\n",
    "              126535920, 113423047, 158423182, 173593383, 142958164, 310383948]\n",
    "\n",
    "plt.scatter(population, gdp)\n",
    "plt.show()"
   ]
  },
  {
   "cell_type": "markdown",
   "metadata": {
    "colab_type": "text",
    "id": "aGrXzYbqswjL"
   },
   "source": [
    "The scatter plot is interesting because we can gather some insights about our data. We can see that there are two population outliers and one (arguably two) GDP outliers.\n",
    "\n",
    "This information can help us decide if we need to correct for or exclude the outliers in our analysis."
   ]
  },
  {
   "cell_type": "markdown",
   "metadata": {
    "colab_type": "text",
    "id": "woyR2BFzvvxD"
   },
   "source": [
    "We can also add more than one set of data to a scatter plot. In the example below, we plot the diameters and weights of a batch of lemons and limes to see if we can determine a pattern."
   ]
  },
  {
   "cell_type": "code",
   "execution_count": 0,
   "metadata": {
    "colab": {},
    "colab_type": "code",
    "id": "K9hBH1WSz1Xf"
   },
   "outputs": [],
   "source": [
    "import matplotlib.pyplot as plt\n",
    "\n",
    "lemon_diameter = [6.44, 6.87, 7.7, 8.85, 8.15, 9.96, 7.21, 10.04, 10.2, 11.06]\n",
    "lemon_weight = [112.05, 114.58, 116.71, 117.4, 128.93, \n",
    "                132.93, 138.92, 145.98, 148.44, 152.81]\n",
    "\n",
    "lime_diameter = [6.15, 7.0, 7.0, 7.69, 7.95, 7.51, 10.46, 8.72, 9.53, 10.09]\n",
    "lime_weight = [112.76, 125.16, 131.36, 132.41, 138.08,\n",
    "               142.55, 156.86, 158.67, 163.28, 166.74]\n",
    "\n",
    "plt.scatter(lemon_diameter, lemon_weight)\n",
    "plt.scatter(lime_diameter, lime_weight)\n",
    "plt.show()"
   ]
  },
  {
   "cell_type": "markdown",
   "metadata": {
    "colab_type": "text",
    "id": "gWMkBd-BwAPN"
   },
   "source": [
    "Looking at our sample, there isn't a very clear pattern. However, one of the citruses does seem to be a little heavier per centimeter of diameter.\n",
    "\n",
    "But which one?\n",
    "\n",
    "It is really difficult to tell. Let's clean this chart up a bit.\n",
    "\n",
    "First we'll add a title using `plt.title()`, an x-label using `plt.xlabel()`, and a y-label using `plt.ylabel()`."
   ]
  },
  {
   "cell_type": "code",
   "execution_count": 0,
   "metadata": {
    "colab": {},
    "colab_type": "code",
    "id": "PvrusS4jwY4b"
   },
   "outputs": [],
   "source": [
    "import matplotlib.pyplot as plt\n",
    "\n",
    "lemon_diameter = [6.44, 6.87, 7.7, 8.85, 8.15, 9.96, 7.21, 10.04, 10.2, 11.06]\n",
    "lemon_weight = [112.05, 114.58, 116.71, 117.4, 128.93, \n",
    "                132.93, 138.92, 145.98, 148.44, 152.81]\n",
    "\n",
    "lime_diameter = [6.15, 7.0, 7.0, 7.69, 7.95, 7.51, 10.46, 8.72, 9.53, 10.09]\n",
    "lime_weight = [112.76, 125.16, 131.36, 132.41, 138.08,\n",
    "               142.55, 156.86, 158.67, 163.28, 166.74]\n",
    "\n",
    "plt.title('Lemons vs. Limes')\n",
    "plt.xlabel('Diameter (cm)')\n",
    "plt.ylabel('Weight (g)')\n",
    "plt.scatter(lemon_diameter, lemon_weight)\n",
    "plt.scatter(lime_diameter, lime_weight)\n",
    "plt.show()"
   ]
  },
  {
   "cell_type": "markdown",
   "metadata": {
    "colab_type": "text",
    "id": "ZnrMrW05wYf9"
   },
   "source": [
    "Now we can add some color and a legend to make our scatter plot a little more intuitive.\n",
    "\n",
    "We add color by passing the `color=` argument to `plt.scatter()`. In this case we just set the lemon points to be yellow using `color='y'` and the lime points to be green using `color='g'`.\n",
    "\n",
    "To add the legend we call `plt.legend()` and pass it a list containing a label for each scatter of data."
   ]
  },
  {
   "cell_type": "code",
   "execution_count": 0,
   "metadata": {
    "colab": {},
    "colab_type": "code",
    "id": "MaeQmImwwuO9"
   },
   "outputs": [],
   "source": [
    "import matplotlib.pyplot as plt\n",
    "\n",
    "lemon_diameter = [6.44, 6.87, 7.7, 8.85, 8.15, 9.96, 7.21, 10.04, 10.2, 11.06]\n",
    "lemon_weight = [112.05, 114.58, 116.71, 117.4, 128.93, \n",
    "                132.93, 138.92, 145.98, 148.44, 152.81]\n",
    "\n",
    "lime_diameter = [6.15, 7.0, 7.0, 7.69, 7.95, 7.51, 10.46, 8.72, 9.53, 10.09]\n",
    "lime_weight = [112.76, 125.16, 131.36, 132.41, 138.08,\n",
    "               142.55, 156.86, 158.67, 163.28, 166.74]\n",
    "\n",
    "plt.title('Lemons vs. Limes')\n",
    "plt.xlabel('Diameter (cm)')\n",
    "plt.ylabel('Weight (g)')\n",
    "plt.scatter(lemon_diameter, lemon_weight, color='y')\n",
    "plt.scatter(lime_diameter, lime_weight, color='g')\n",
    "plt.legend(['lemons', 'limes'])\n",
    "plt.show()"
   ]
  },
  {
   "cell_type": "markdown",
   "metadata": {
    "colab_type": "text",
    "id": "0aiTwXAXBFHb"
   },
   "source": [
    "Now we can see more clearly that our limes tend to be a little heavier per centimeter of diameter than our lemons."
   ]
  },
  {
   "cell_type": "markdown",
   "metadata": {
    "colab_type": "text",
    "id": "30AN352V0pBk"
   },
   "source": [
    "## Heatmaps\n",
    "\n",
    "Heatmaps are a type of visualization that uses color coding to represent the relative value/density of data across a surface. Often this is a tabular chart, but it doesn't have to be limited to that.\n",
    "\n",
    "For tabular data, there are labels on the x and y axes. The values at the intersection of those labels maps to a color.\n",
    "\n",
    "These colors can then be used to visually inspect the data to find clusters of similar values and detect trends in the data."
   ]
  },
  {
   "cell_type": "markdown",
   "metadata": {
    "colab_type": "text",
    "id": "lTWT1IuGRX15"
   },
   "source": [
    "Let's start with a sample dataset that will literally map heat. We will be working with data about the average high temperatures each month for the 12 largest cities in the world.\n",
    "\n",
    "To create this heatmap we will use a new library, [Seaborn](https://seaborn.pydata.org/). Seaborn is a visualization library that is built on top of [Matplotlib](https://matplotlib.org/). It provides a higher-level interface and can create more attractive charts with less effort. Any of the visualizations that we have seen in this lab so far could have also been created in Seaborn.\n",
    "\n",
    "You'll see both Matplotlib and seaborn in use in real data analytics projects, so we want to introduce you to both of them in this lab.\n",
    "\n",
    "Anyway, let's build a heatmap!\n",
    "\n",
    "In the code below, we first import seaborn. We then create lists containing the names of the 12 largest cities in the world and the 12 months in the year.\n",
    "\n",
    "Next we assign a list-of-lists to the `temperatures` variable. Each row in the list represents a city. Each column is a month. The values are the average high temperatures for the city for the month.\n",
    "\n",
    "Finally we call `sns.heatmap()` to create the heatmap. We pass in the temperature data, the city names as y-labels, and the month abbreviations as x-labels."
   ]
  },
  {
   "cell_type": "code",
   "execution_count": 0,
   "metadata": {
    "colab": {},
    "colab_type": "code",
    "id": "Z99Q4mjtzMxM"
   },
   "outputs": [],
   "source": [
    "import seaborn as sns\n",
    "\n",
    "cities = ['Tokyo', 'Delhi', 'Shanghai', 'Sao Paulo', 'Mumbai', 'Mexico City',\n",
    "          'Beijing', 'Osaka', 'Cairo', 'New York', 'Dhaka', 'Karachi']\n",
    "\n",
    "months = ['J', 'F', 'M', 'A', 'M', 'J', 'J', 'A', 'S', 'O', 'N', 'D']\n",
    "\n",
    "temperatures = [\n",
    "  [10, 10, 14, 19, 23, 26, 30, 31, 27, 22, 17, 12], # Tokyo\n",
    "  [20, 24, 30, 37, 40, 39, 35, 34, 34, 33, 28, 22], # Delhi\n",
    "  [ 8, 10, 14, 20, 24, 28, 32, 32, 27, 23, 17, 11], # Shanghai\n",
    "  [29, 29, 28, 27, 23, 23, 23, 25, 25, 26, 27, 28], # Sao Paulo\n",
    "  [31, 32, 33, 33, 34, 32, 30, 30, 31, 34, 34, 32], # Mumbai\n",
    "  [22, 24, 26, 27, 27, 26, 24, 25, 24, 24, 23, 23], # Mexico City\n",
    "  [ 2,  5, 12, 21, 27, 30, 31, 30, 26, 19, 10,  4], # Beijing\n",
    "  [ 9, 10, 14, 20, 25, 28, 32, 33, 29, 23, 18, 12], # Osaka\n",
    "  [19, 21, 24, 29, 33, 35, 35, 35, 34, 30, 25, 21], # Cairo\n",
    "  [ 4,  6, 11, 18, 22, 27, 29, 29, 25, 18, 13,  7], # New York\n",
    "  [25, 29, 32, 33, 33, 32, 32, 32, 32, 31, 29, 26], # Dhaka\n",
    "  [26, 28, 32, 35, 36, 35, 33, 32, 33, 35, 32, 28], # Karachi\n",
    "]\n",
    "\n",
    "sns.heatmap(temperatures, yticklabels=cities, xticklabels=months)"
   ]
  },
  {
   "cell_type": "markdown",
   "metadata": {
    "colab_type": "text",
    "id": "AEFwAEfJT-yM"
   },
   "source": [
    "We can see the data in the resultant chart. But how do we interpret it?\n",
    "\n",
    "It is actually fairly difficult to make any sense of the data. The left and right of the graph might contain somewhat darker colors, which maps to cooler temperatures, but even that is difficult to determine.\n",
    "\n",
    "If you think about it, this makes sense. The cities are sorted by size, largest to smallest. Let's change the sorting to be latitude."
   ]
  },
  {
   "cell_type": "code",
   "execution_count": 0,
   "metadata": {
    "colab": {},
    "colab_type": "code",
    "id": "0K-5qo9a5EkC"
   },
   "outputs": [],
   "source": [
    "import seaborn as sns\n",
    "\n",
    "cities = ['New York', 'Beijing', 'Tokyo', 'Osaka', 'Shanghai', 'Cairo', 'Delhi',\n",
    "          'Karachi', 'Dhaka', 'Mexico City', 'Mumbai', 'Sao Paulo']\n",
    "\n",
    "temperatures = [\n",
    "  [ 4,  6, 11, 18, 22, 27, 29, 29, 25, 18, 13,  7], # New York\n",
    "  [ 2,  5, 12, 21, 27, 30, 31, 30, 26, 19, 10,  4], # Beijing\n",
    "  [10, 10, 14, 19, 23, 26, 30, 31, 27, 22, 17, 12], # Tokyo\n",
    "  [ 9, 10, 14, 20, 25, 28, 32, 33, 29, 23, 18, 12], # Osaka\n",
    "  [ 8, 10, 14, 20, 24, 28, 32, 32, 27, 23, 17, 11], # Shanghai\n",
    "  [19, 21, 24, 29, 33, 35, 35, 35, 34, 30, 25, 21], # Cairo\n",
    "  [20, 24, 30, 37, 40, 39, 35, 34, 34, 33, 28, 22], # Delhi\n",
    "  [26, 28, 32, 35, 36, 35, 33, 32, 33, 35, 32, 28], # Karachi\n",
    "  [25, 29, 32, 33, 33, 32, 32, 32, 32, 31, 29, 26], # Dhaka\n",
    "  [22, 24, 26, 27, 27, 26, 24, 25, 24, 24, 23, 23], # Mexico City\n",
    "  [31, 32, 33, 33, 34, 32, 30, 30, 31, 34, 34, 32], # Mumbai\n",
    "  [29, 29, 28, 27, 23, 23, 23, 25, 25, 26, 27, 28], # Sao Paulo\n",
    "]\n",
    "\n",
    "sns.heatmap(temperatures, yticklabels=cities, xticklabels=months)"
   ]
  },
  {
   "cell_type": "markdown",
   "metadata": {
    "colab_type": "text",
    "id": "zkCJOg7gX4e2"
   },
   "source": [
    "This makes much more sense. We can see that the cities at higher latitudes are colder from September through March and that the temperature tends to rise as the latitude gets smaller.\n",
    "\n",
    "Also notice that Sao Paulo still seems to see warmer months mid-year even though it is in the southern hemisphere.\n",
    "\n",
    "Admittedly, the color scheme is difficult to read. It is possible to change the color scheme using the `cmap=` argument. `cmap=` accepts lists of colors and preset color schemes. You can find the schemes in the [Matplotlib colormap documentation](https://matplotlib.org/3.1.0/tutorials/colors/colormaps.html)."
   ]
  },
  {
   "cell_type": "code",
   "execution_count": 0,
   "metadata": {
    "colab": {},
    "colab_type": "code",
    "id": "Jf1yss3oMTQX"
   },
   "outputs": [],
   "source": [
    "import seaborn as sns\n",
    "\n",
    "cities = ['New York', 'Beijing', 'Tokyo', 'Osaka', 'Shanghai', 'Cairo', 'Delhi',\n",
    "          'Karachi', 'Dhaka', 'Mexico City', 'Mumbai', 'Sao Paulo']\n",
    "\n",
    "temperatures = [\n",
    "  [ 4,  6, 11, 18, 22, 27, 29, 29, 25, 18, 13,  7], # New York\n",
    "  [ 2,  5, 12, 21, 27, 30, 31, 30, 26, 19, 10,  4], # Beijing\n",
    "  [10, 10, 14, 19, 23, 26, 30, 31, 27, 22, 17, 12], # Tokyo\n",
    "  [ 9, 10, 14, 20, 25, 28, 32, 33, 29, 23, 18, 12], # Osaka\n",
    "  [ 8, 10, 14, 20, 24, 28, 32, 32, 27, 23, 17, 11], # Shanghai\n",
    "  [19, 21, 24, 29, 33, 35, 35, 35, 34, 30, 25, 21], # Cairo\n",
    "  [20, 24, 30, 37, 40, 39, 35, 34, 34, 33, 28, 22], # Delhi\n",
    "  [26, 28, 32, 35, 36, 35, 33, 32, 33, 35, 32, 28], # Karachi\n",
    "  [25, 29, 32, 33, 33, 32, 32, 32, 32, 31, 29, 26], # Dhaka\n",
    "  [22, 24, 26, 27, 27, 26, 24, 25, 24, 24, 23, 23], # Mexico City\n",
    "  [31, 32, 33, 33, 34, 32, 30, 30, 31, 34, 34, 32], # Mumbai\n",
    "  [29, 29, 28, 27, 23, 23, 23, 25, 25, 26, 27, 28], # Sao Paulo\n",
    "]\n",
    "\n",
    "sns.heatmap(\n",
    "    temperatures,\n",
    "    yticklabels=cities,\n",
    "    xticklabels=months,\n",
    "    cmap='coolwarm',\n",
    ")"
   ]
  },
  {
   "cell_type": "markdown",
   "metadata": {
    "colab_type": "text",
    "id": "g28CJyN5ZJKY"
   },
   "source": [
    "There are many more options available. Check out the [heatmap documentation](https://seaborn.pydata.org/generated/seaborn.heatmap.html) for more."
   ]
  },
  {
   "cell_type": "markdown",
   "metadata": {
    "colab_type": "text",
    "id": "y8UZO7Odc6Hz"
   },
   "source": [
    "# Exercises: Which Visualization?\n",
    "\n",
    "There are five exercises in this Colab. Each exercise contains a dataset and a query about that dataset. Using Matplotlib or Seaborn, create a visualization that allows any viewer to easily answer the question.\n",
    "\n",
    "For each exercise, choose one of the following visualizations:\n",
    "* Pie chart\n",
    "* Bar chart\n",
    "* Line graph\n",
    "* Scatter plot\n",
    "* Heatmap\n",
    "\n",
    "You may only use each visualization one time. When you are done, you should have one of each of the five types of visualizations.\n",
    "\n",
    "In some cases, there may be more than one \"right answer\", as there are often multiple good ways to visualize data. Use your judgement to choose which one you think is best for each question.\n",
    "\n",
    "Add titles, labels, color coding, and other visual aides when you can to help the user interpret the charts."
   ]
  },
  {
   "cell_type": "markdown",
   "metadata": {
    "colab_type": "text",
    "id": "_HFvehCieCIi"
   },
   "source": [
    "## Exercise 1: Desserts\n",
    "\n"
   ]
  },
  {
   "cell_type": "markdown",
   "metadata": {
    "colab_type": "text",
    "id": "A8HLHaSnhPtd"
   },
   "source": [
    "We have a list of Bitcoin prices recorded at the end of each week (Sunday) in 2018 and 2019. Create a visualization that allows you to answer the question: *Which year, 2018 or 2019, tended to provide better returns for Bitcoin holders?*"
   ]
  },
  {
   "cell_type": "markdown",
   "metadata": {
    "colab_type": "text",
    "id": "zERQWc82edZg"
   },
   "source": [
    "**Student Solution**"
   ]
  },
  {
   "cell_type": "code",
   "execution_count": 0,
   "metadata": {
    "colab": {},
    "colab_type": "code",
    "id": "BG6uOwnXebwS"
   },
   "outputs": [],
   "source": [
    "prices = [14292.2, 12858.9, 11467.5, 9241.1, 8559.6, 11073.5, 9704.3, 11402.3,\n",
    "          8762.0, 7874.9, 8547.4, 6938.2, 6905.7, 8004.4, 8923.1, 9352.4,\n",
    "          9853.5, 8459.5, 8245.1, 7361.3, 7646.6, 7515.8, 6505.8, 6167.3, \n",
    "          6398.9, 6765.5, 6254.8, 7408.7, 8234.1, 7014.3, 6231.6, 6379.1,\n",
    "          6734.8, 7189.6, 6184.3, 6519.0, 6729.6, 6603.9, 6596.3, 6321.7,\n",
    "          6572.2, 6494.2, 6386.2, 6427.1, 5621.8, 3920.4, 4196.2, 3430.4,\n",
    "          3228.7, 3964.4, 3706.8, 3785.4, 3597.2, 3677.8, 3570.9, 3502.5,\n",
    "          3661.4, 3616.8, 4120.4, 3823.1, 3944.3, 4006.4, 4002.5, 4111.8,\n",
    "          5046.2, 5051.8, 5290.2, 5265.9, 5830.9, 7190.3, 7262.6, 8027.4,\n",
    "          8545.7, 7901.4, 8812.5, 10721.7, 11906.5, 11268.0, 11364.9, 10826.7,\n",
    "          9492.1, 10815.7, 11314.5, 10218.1, 10131.0, 9594.4, 10461.1, 10337.3,\n",
    "          9993.0, 8208.5, 8127.3, 8304.4, 7957.3, 9230.6, 9300.6, 8804.5,\n",
    "          8497.3, 7324.1, 7546.6, 7510.9, 7080.8, 7156.2, 7321.5, 7376.8]\n",
    "          \n",
    "# Your Solution Goes Here"
   ]
  },
  {
   "cell_type": "markdown",
   "metadata": {
    "colab_type": "text",
    "id": "3ISo-a_MtdLg"
   },
   "source": [
    "**Explanation**"
   ]
  },
  {
   "cell_type": "markdown",
   "metadata": {
    "colab_type": "text",
    "id": "W5mybUGrtgH-"
   },
   "source": [
    "Which chart did you choose and why?\n",
    "\n",
    "> *Your solution goes here.*"
   ]
  },
  {
   "cell_type": "markdown",
   "metadata": {
    "colab_type": "text",
    "id": "8KHRyO_-t2nL"
   },
   "source": [
    "Which year seemed to be better for Bitcoin holders?\n",
    "\n",
    "> *Your solution goes here.*"
   ]
  },
  {
   "cell_type": "markdown",
   "metadata": {
    "colab_type": "text",
    "id": "tb3B6lq9eaRv"
   },
   "source": [
    "---"
   ]
  },
  {
   "cell_type": "markdown",
   "metadata": {
    "colab_type": "text",
    "id": "VyjwxIZ6uxyz"
   },
   "source": [
    "## Exercise 2: Candy\n",
    "\n",
    "We have a bag of candy. It contains five different kinds of candy, each named below. Create a chart that shows the percent chance that we would pull a Snickers candy out of the bag if we did a blind selection. Call out the chance of choosing a Snickers candy."
   ]
  },
  {
   "cell_type": "markdown",
   "metadata": {
    "colab_type": "text",
    "id": "mAYs352dvA9U"
   },
   "source": [
    "**Student Solution**"
   ]
  },
  {
   "cell_type": "code",
   "execution_count": 0,
   "metadata": {
    "colab": {},
    "colab_type": "code",
    "id": "v92aHPHZvD2z"
   },
   "outputs": [],
   "source": [
    "candy_names = ['Kit Kat', 'Snickers', 'Milky Way', 'Toblerone', 'Twix']\n",
    "candy_counts = [52, 39, 78, 13, 78]\n",
    "\n",
    "# Your Solution Goes Here"
   ]
  },
  {
   "cell_type": "markdown",
   "metadata": {
    "colab_type": "text",
    "id": "LIsUqwFTvGAT"
   },
   "source": [
    "**Explanation**"
   ]
  },
  {
   "cell_type": "markdown",
   "metadata": {
    "colab_type": "text",
    "id": "ICVHBALOvI3b"
   },
   "source": [
    "Which chart did you choose and why?\n",
    "\n",
    "> *Your solution goes here.*"
   ]
  },
  {
   "cell_type": "markdown",
   "metadata": {
    "colab_type": "text",
    "id": "lEXhqyfIv4Dd"
   },
   "source": [
    "What are the percentage odds that you'll choose a Snickers bar when randomly pulling a candy out of the bag?\n",
    "\n",
    "> *Your solution goes here.*"
   ]
  },
  {
   "cell_type": "markdown",
   "metadata": {
    "colab_type": "text",
    "id": "RBbVa5s4vNNs"
   },
   "source": [
    "---"
   ]
  },
  {
   "cell_type": "markdown",
   "metadata": {
    "colab_type": "text",
    "id": "CbLlgsnwxC4X"
   },
   "source": [
    "## Exercise 3: Dessert Popularity\n",
    "\n",
    "A restaurant we're consulting for has a dessert menu that's too big. They want to cut a few items from the menu. In order to keep most of their customers happy, they want to remove only the three least popular desserts from the menu.\n",
    "\n",
    "We have a list of the desserts that the restaurant serves, as well as a count of the number of times that dessert has been sold in the last week.\n",
    "\n",
    "Create a visualization that shows the relative popularities of the desserts. Call out the three desserts that should be removed."
   ]
  },
  {
   "cell_type": "markdown",
   "metadata": {
    "colab_type": "text",
    "id": "DXOwYyJsx2M4"
   },
   "source": [
    "**Student Solution**"
   ]
  },
  {
   "cell_type": "code",
   "execution_count": 0,
   "metadata": {
    "colab": {},
    "colab_type": "code",
    "id": "p0nScKq9x5QX"
   },
   "outputs": [],
   "source": [
    "dessert_sales = {\n",
    "  'Lava Cake': 14,\n",
    "  'Mousse': 5,\n",
    "  'Chocolate Cake': 12,\n",
    "  'Ice Cream': 19,\n",
    "  'Truffles': 6,\n",
    "  'Brownie': 8,\n",
    "  'Chocolate Chip Cookie': 12,\n",
    "  'Chocolate Pudding': 9,\n",
    "  'Souffle': 10,\n",
    "  'Chocolate Cheesecake': 17,\n",
    "  'Chocolate Chips': 2,\n",
    "  'Fudge': 9,\n",
    "  'Mochi': 13,\n",
    "}\n",
    "\n",
    "# Your Solution Goes Here"
   ]
  },
  {
   "cell_type": "markdown",
   "metadata": {
    "colab_type": "text",
    "id": "36bGVRQC3m1O"
   },
   "source": [
    "**Explanation**"
   ]
  },
  {
   "cell_type": "markdown",
   "metadata": {
    "colab_type": "text",
    "id": "A5--nHzKx_HH"
   },
   "source": [
    "Which chart did you choose and why?\n",
    "\n",
    "> *Your solution goes here.*"
   ]
  },
  {
   "cell_type": "markdown",
   "metadata": {
    "colab_type": "text",
    "id": "RLOMBnjQx_5q"
   },
   "source": [
    "Which three desserts should be removed from the menu?\n",
    "\n",
    "> *Your solution goes here.*"
   ]
  },
  {
   "cell_type": "markdown",
   "metadata": {
    "colab_type": "text",
    "id": "eaD-WjlZyF5B"
   },
   "source": [
    "---"
   ]
  },
  {
   "cell_type": "markdown",
   "metadata": {
    "colab_type": "text",
    "id": "qGrTK4hn2VE6"
   },
   "source": [
    "## Exercise 4: CPU Usage\n",
    "\n",
    "We have the hourly average CPU usage for a worker's computer over the course of a week. Each row of data represents a day of the week starting with Monday. Each column of data is an hour in the day starting with 0 being midnight.\n",
    "\n",
    "Create a chart that shows the CPU usage over the week. You should be able to answer the following questions using the chart:\n",
    "\n",
    "* When does the worker typically take lunch?\n",
    "* Did the worker do work on the weekend?\n",
    "* On which weekday did the worker start working on their computer at the latest hour?"
   ]
  },
  {
   "cell_type": "markdown",
   "metadata": {
    "colab_type": "text",
    "id": "hTNXz8dD3M4o"
   },
   "source": [
    "**Student Solution**"
   ]
  },
  {
   "cell_type": "code",
   "execution_count": 0,
   "metadata": {
    "colab": {},
    "colab_type": "code",
    "id": "map4NIff3O2s"
   },
   "outputs": [],
   "source": [
    "cpu_usage = [\n",
    "  [2, 2, 4, 2, 4, 1, 1, 4, 4, 12, 22, 23, \n",
    "   45, 9, 33, 56, 23, 40, 21, 6, 6, 2, 2, 3], # Monday\n",
    "  [1, 2, 3, 2, 3, 2, 3, 2, 7, 22, 45, 44,\n",
    "   33, 9, 23, 19, 33, 56, 12, 2, 3, 1, 2, 2], # Tuesday\n",
    "  [2, 3, 1, 2, 4, 4, 2, 2, 1, 2,  5, 31,\n",
    "   54, 7, 6, 34, 68, 34, 49, 6, 6, 2, 2, 3], # Wednesday\n",
    "  [1, 2, 3, 2, 4, 1, 2, 4, 1, 17, 24, 18,\n",
    "   41, 3, 44, 42, 12, 36, 41, 2, 2, 4, 2, 4], # Thursday\n",
    "  [4, 1, 2, 2, 3, 2, 5, 1, 2, 12, 33, 27,\n",
    "   43, 8, 38, 53, 29, 45, 39, 3, 1, 1, 3, 4], # Friday\n",
    "  [2, 3, 1, 2, 2, 5, 2, 8, 4, 2, 3,\n",
    "   1, 5, 1, 2, 3, 2, 6, 1, 2, 2, 1, 4, 3], # Saturday\n",
    "  [1, 2, 3, 1, 1, 3, 4, 2, 3, 1, 2,\n",
    "   2, 5, 3, 2, 1, 4, 2, 45, 26, 33, 2, 2, 1], # Sunday\n",
    "]\n",
    "\n",
    "# Your Solution Goes Here"
   ]
  },
  {
   "cell_type": "markdown",
   "metadata": {
    "colab_type": "text",
    "id": "sWoAg5iD3Vr5"
   },
   "source": [
    "**Explanation**"
   ]
  },
  {
   "cell_type": "markdown",
   "metadata": {
    "colab_type": "text",
    "id": "8v8_Ek2V3ZIY"
   },
   "source": [
    "Which chart did you choose and why?\n",
    "\n",
    "> *Your solution goes here.*"
   ]
  },
  {
   "cell_type": "markdown",
   "metadata": {
    "colab_type": "text",
    "id": "uUslPlGE3Z3M"
   },
   "source": [
    "When does the worker typically take lunch?\n",
    "\n",
    "> *Your solution goes here.*"
   ]
  },
  {
   "cell_type": "markdown",
   "metadata": {
    "colab_type": "text",
    "id": "9-HR116G-MaD"
   },
   "source": [
    "Did the worker do work on the weekend?\n",
    "\n",
    "> *Your solution goes here.*"
   ]
  },
  {
   "cell_type": "markdown",
   "metadata": {
    "colab_type": "text",
    "id": "UBI56HLI-Rex"
   },
   "source": [
    "On which weekday did the worker start working on their computer at the latest hour?\n",
    "\n",
    "> *Your solution goes here.*"
   ]
  },
  {
   "cell_type": "markdown",
   "metadata": {
    "colab_type": "text",
    "id": "gnrpRUMK3aZ4"
   },
   "source": [
    "---"
   ]
  },
  {
   "cell_type": "markdown",
   "metadata": {
    "colab_type": "text",
    "id": "wIV7IgGm-9Y_"
   },
   "source": [
    "## Exercise 5: Mushrooms\n",
    "\n",
    "A researcher is studying mushrooms. They have found a ring of mushrooms and have labelled their coordinates on a plane. Typically mushrooms radiate out from a central starting mushroom. Given the coordinates below, the researcher wants to answer the question: *Approximately where on the plane was the original mushroom?*\n",
    "\n",
    "Create a chart that will allow the researcher to approximate the center of the growth."
   ]
  },
  {
   "cell_type": "markdown",
   "metadata": {
    "colab_type": "text",
    "id": "sdEU5smR8grs"
   },
   "source": [
    "**Student Solution**"
   ]
  },
  {
   "cell_type": "code",
   "execution_count": 0,
   "metadata": {
    "colab": {},
    "colab_type": "code",
    "id": "j87gJ87t8iey"
   },
   "outputs": [],
   "source": [
    "x = [4.61, 5.08, 5.18, 7.82, 10.46, 7.66, 7.6, 9.32, 14.04, 9.95, 4.95, 7.23, \n",
    "     5.21, 8.64, 10.08, 8.32, 12.83, 7.51, 7.82, 6.29, 0.04, 6.62, 13.16, 6.34, \n",
    "     0.09, 10.04, 13.06, 9.54, 11.32, 7.12, -0.67, 10.5, 8.37, 7.24, 9.18, \n",
    "     10.12, 12.29, 8.53, 11.11, 9.65, 9.42, 8.61, -0.67, 5.94, 6.49, 7.57, 3.11,\n",
    "     8.7, 5.28, 8.28, 9.55, 8.33, 13.7, 6.65, 2.4, 3.54, 9.19, 7.51, -0.68,\n",
    "     8.47, 14.82, 5.31, 14.01, 8.75, -0.57, 5.35, 10.51, 3.11, -0.26, 5.74,\n",
    "     8.33, 6.5, 13.85, 9.78, 4.91, 4.19, 14.8, 10.04, 13.47, 3.28]\n",
    "\n",
    "y = [-2.36, -3.41, 13.01, -2.91, -2.28, 12.83, 13.13, 11.94, 0.93, -2.76, 13.31,\n",
    "     -3.57, -2.33, 12.43, -1.83, 12.32, -0.42, -3.08, -2.98, 12.46, 8.34, -3.19,\n",
    "     -0.47, 12.78, 2.12, -2.72, 10.64, 11.98, 12.21, 12.52, 5.53, 11.72, 12.91,\n",
    "     12.56, -2.49, 12.08, -1.09, -2.89, -1.78, -2.47, 12.77, 12.41, 5.33, -3.23,\n",
    "     13.45, -3.41, 12.46, 12.1, -2.56, 12.51, -2.37, 12.76, 9.69, 12.59, -1.12,\n",
    "     -2.8, 12.94, -3.55, 7.33, 12.59, 2.92, 12.7, 0.5, 12.57, 6.39, 12.84,\n",
    "     -1.95, 11.76, 6.82, 12.44, 13.28, -3.46, 0.7, -2.55, -2.37, 12.48, 7.26,\n",
    "     -2.45, 0.31, -2.51]\n",
    "\n",
    "# Your Solution Goes Here"
   ]
  },
  {
   "cell_type": "markdown",
   "metadata": {
    "colab_type": "text",
    "id": "iO7IBBRf-Ywp"
   },
   "source": [
    "**Explanation**"
   ]
  },
  {
   "cell_type": "markdown",
   "metadata": {
    "colab_type": "text",
    "id": "uPllKeQR8jaB"
   },
   "source": [
    "Which chart did you choose and why?\n",
    "\n",
    "> *Your solution goes here.*"
   ]
  },
  {
   "cell_type": "markdown",
   "metadata": {
    "colab_type": "text",
    "id": "V-e0LodW8o-Q"
   },
   "source": [
    "What are the approximate x,y coordinates of the initial mushroom?\n",
    "\n",
    "> *Your solution goes here.*"
   ]
  },
  {
   "cell_type": "markdown",
   "metadata": {
    "colab_type": "text",
    "id": "f5VtTo988uxo"
   },
   "source": [
    "---"
   ]
  }
 ],
 "metadata": {
  "colab": {
   "collapsed_sections": [
    "dOtXIvDSbwtj",
    "9Ki5YknjegUY",
    "p01aohhXvP0q",
    "-yTpvrQIyGoG"
   ],
   "include_colab_link": true,
   "name": "Visualizations",
   "private_outputs": true,
   "provenance": [],
   "toc_visible": true
  },
  "kernelspec": {
   "display_name": "Python 3",
   "language": "python",
   "name": "python3"
  },
  "language_info": {
   "codemirror_mode": {
    "name": "ipython",
    "version": 3
   },
   "file_extension": ".py",
   "mimetype": "text/x-python",
   "name": "python",
   "nbconvert_exporter": "python",
   "pygments_lexer": "ipython3",
   "version": "3.8.5"
  }
 },
 "nbformat": 4,
 "nbformat_minor": 1
}
